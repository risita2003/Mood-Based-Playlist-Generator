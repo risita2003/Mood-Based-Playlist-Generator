{
  "nbformat": 4,
  "nbformat_minor": 0,
  "metadata": {
    "colab": {
      "provenance": [],
      "toc_visible": true
    },
    "kernelspec": {
      "name": "python3",
      "display_name": "Python 3"
    },
    "language_info": {
      "name": "python"
    }
  },
  "cells": [
    {
      "cell_type": "code",
      "execution_count": 1,
      "metadata": {
        "colab": {
          "base_uri": "https://localhost:8080/"
        },
        "id": "VzJWeqMqJ5Wq",
        "outputId": "05ab7f5f-268a-4374-cbaa-ec22f2e56914"
      },
      "outputs": [
        {
          "output_type": "stream",
          "name": "stdout",
          "text": [
            "Requirement already satisfied: pandas in /usr/local/lib/python3.11/dist-packages (2.2.2)\n",
            "Requirement already satisfied: scikit-learn in /usr/local/lib/python3.11/dist-packages (1.6.1)\n",
            "Requirement already satisfied: nltk in /usr/local/lib/python3.11/dist-packages (3.9.1)\n",
            "Requirement already satisfied: numpy>=1.23.2 in /usr/local/lib/python3.11/dist-packages (from pandas) (2.0.2)\n",
            "Requirement already satisfied: python-dateutil>=2.8.2 in /usr/local/lib/python3.11/dist-packages (from pandas) (2.9.0.post0)\n",
            "Requirement already satisfied: pytz>=2020.1 in /usr/local/lib/python3.11/dist-packages (from pandas) (2025.2)\n",
            "Requirement already satisfied: tzdata>=2022.7 in /usr/local/lib/python3.11/dist-packages (from pandas) (2025.2)\n",
            "Requirement already satisfied: scipy>=1.6.0 in /usr/local/lib/python3.11/dist-packages (from scikit-learn) (1.16.1)\n",
            "Requirement already satisfied: joblib>=1.2.0 in /usr/local/lib/python3.11/dist-packages (from scikit-learn) (1.5.1)\n",
            "Requirement already satisfied: threadpoolctl>=3.1.0 in /usr/local/lib/python3.11/dist-packages (from scikit-learn) (3.6.0)\n",
            "Requirement already satisfied: click in /usr/local/lib/python3.11/dist-packages (from nltk) (8.2.1)\n",
            "Requirement already satisfied: regex>=2021.8.3 in /usr/local/lib/python3.11/dist-packages (from nltk) (2024.11.6)\n",
            "Requirement already satisfied: tqdm in /usr/local/lib/python3.11/dist-packages (from nltk) (4.67.1)\n",
            "Requirement already satisfied: six>=1.5 in /usr/local/lib/python3.11/dist-packages (from python-dateutil>=2.8.2->pandas) (1.17.0)\n"
          ]
        }
      ],
      "source": [
        "pip install pandas scikit-learn nltk"
      ]
    },
    {
      "cell_type": "code",
      "source": [
        "# mood_playlist_generator.py\n",
        "\n",
        "import pandas as pd\n",
        "import numpy as np\n",
        "import random\n",
        "from sklearn.model_selection import train_test_split\n",
        "from sklearn.feature_extraction.text import TfidfVectorizer\n",
        "from sklearn.linear_model import LogisticRegression\n",
        "from sklearn.pipeline import Pipeline\n",
        "from sklearn.metrics import classification_report\n",
        "\n",
        "# Load dataset (you can use your Kaggle Spotify mood-labeled dataset here)\n",
        "# Simulated dataset structure\n",
        "data = {\n",
        "    'lyrics_or_desc': [\n",
        "        \"I am feeling so low and tired\",\n",
        "        \"I just got a promotion!\",\n",
        "        \"Life is beautiful today\",\n",
        "        \"I am so frustrated with my job\",\n",
        "        \"My heart is broken\",\n",
        "        \"I want to dance all night\",\n",
        "        \"Feeling very peaceful and calm\"\n",
        "    ],\n",
        "    'mood': [\n",
        "        'sad', 'happy', 'happy', 'angry', 'sad', 'excited', 'calm'\n",
        "    ]\n",
        "}\n",
        "\n",
        "df = pd.DataFrame(data)\n",
        "\n",
        "# Playlist dictionary\n",
        "playlist = {\n",
        "    'happy': ['Happy - Pharrell Williams', 'Can’t Stop the Feeling - Justin Timberlake'],\n",
        "    'sad': ['Someone Like You - Adele', 'Fix You - Coldplay'],\n",
        "    'angry': ['Breaking the Habit - Linkin Park', 'Given Up - Linkin Park'],\n",
        "    'excited': ['Uptown Funk - Bruno Mars', 'Don’t Start Now - Dua Lipa'],\n",
        "    'calm': ['Weightless - Marconi Union', 'River Flows In You - Yiruma']\n",
        "}\n",
        "\n",
        "# Preprocessing and model training\n",
        "X = df['lyrics_or_desc']\n",
        "y = df['mood']\n",
        "\n",
        "# Splitting data\n",
        "X_train, X_test, y_train, y_test = train_test_split(X, y, test_size=0.2, random_state=42)\n",
        "\n",
        "# Create pipeline\n",
        "model = Pipeline([\n",
        "    ('tfidf', TfidfVectorizer()),\n",
        "    ('clf', LogisticRegression(max_iter=1000))\n",
        "])\n",
        "\n",
        "# Train\n",
        "model.fit(X_train, y_train)\n",
        "\n",
        "# Evaluate (optional)\n",
        "y_pred = model.predict(X_test)\n",
        "print(\"\\nModel Evaluation:\\n\", classification_report(y_test, y_pred))"
      ],
      "metadata": {
        "colab": {
          "base_uri": "https://localhost:8080/"
        },
        "id": "CF6Lj9J7KVHr",
        "outputId": "0189f49c-8627-4cfa-cd4d-5b3a15c35fee"
      },
      "execution_count": 2,
      "outputs": [
        {
          "output_type": "stream",
          "name": "stdout",
          "text": [
            "\n",
            "Model Evaluation:\n",
            "               precision    recall  f1-score   support\n",
            "\n",
            "        calm       0.00      0.00      0.00       0.0\n",
            "     excited       0.00      0.00      0.00       0.0\n",
            "       happy       0.00      0.00      0.00       1.0\n",
            "         sad       0.00      0.00      0.00       1.0\n",
            "\n",
            "    accuracy                           0.00       2.0\n",
            "   macro avg       0.00      0.00      0.00       2.0\n",
            "weighted avg       0.00      0.00      0.00       2.0\n",
            "\n"
          ]
        },
        {
          "output_type": "stream",
          "name": "stderr",
          "text": [
            "/usr/local/lib/python3.11/dist-packages/sklearn/metrics/_classification.py:1565: UndefinedMetricWarning: Precision is ill-defined and being set to 0.0 in labels with no predicted samples. Use `zero_division` parameter to control this behavior.\n",
            "  _warn_prf(average, modifier, f\"{metric.capitalize()} is\", len(result))\n",
            "/usr/local/lib/python3.11/dist-packages/sklearn/metrics/_classification.py:1565: UndefinedMetricWarning: Recall is ill-defined and being set to 0.0 in labels with no true samples. Use `zero_division` parameter to control this behavior.\n",
            "  _warn_prf(average, modifier, f\"{metric.capitalize()} is\", len(result))\n",
            "/usr/local/lib/python3.11/dist-packages/sklearn/metrics/_classification.py:1565: UndefinedMetricWarning: Precision is ill-defined and being set to 0.0 in labels with no predicted samples. Use `zero_division` parameter to control this behavior.\n",
            "  _warn_prf(average, modifier, f\"{metric.capitalize()} is\", len(result))\n",
            "/usr/local/lib/python3.11/dist-packages/sklearn/metrics/_classification.py:1565: UndefinedMetricWarning: Recall is ill-defined and being set to 0.0 in labels with no true samples. Use `zero_division` parameter to control this behavior.\n",
            "  _warn_prf(average, modifier, f\"{metric.capitalize()} is\", len(result))\n",
            "/usr/local/lib/python3.11/dist-packages/sklearn/metrics/_classification.py:1565: UndefinedMetricWarning: Precision is ill-defined and being set to 0.0 in labels with no predicted samples. Use `zero_division` parameter to control this behavior.\n",
            "  _warn_prf(average, modifier, f\"{metric.capitalize()} is\", len(result))\n",
            "/usr/local/lib/python3.11/dist-packages/sklearn/metrics/_classification.py:1565: UndefinedMetricWarning: Recall is ill-defined and being set to 0.0 in labels with no true samples. Use `zero_division` parameter to control this behavior.\n",
            "  _warn_prf(average, modifier, f\"{metric.capitalize()} is\", len(result))\n"
          ]
        }
      ]
    },
    {
      "cell_type": "code",
      "source": [
        "# --- Function to get mood and recommend playlist ---\n",
        "def recommend_playlist(user_input):\n",
        "    predicted_mood = model.predict([user_input])[0]\n",
        "    print(f\"\\nPredicted Mood: {predicted_mood}\")\n",
        "    print(\"\\nRecommended Playlist:\")\n",
        "    for song in playlist.get(predicted_mood, [\"No recommendations available.\"]):\n",
        "        print(f\"🎵 {song}\")\n",
        "\n",
        "# --- Example User Input ---\n",
        "if __name__ == \"__main__\":\n",
        "    print(\"\\n🎧 Welcome to Mood-Based Music Recommender 🎧\")\n",
        "    user_input = input(\"How are you feeling right now? → \")\n",
        "    recommend_playlist(user_input)"
      ],
      "metadata": {
        "colab": {
          "base_uri": "https://localhost:8080/"
        },
        "id": "QtHf0g3DKjUM",
        "outputId": "791c9154-e067-4dba-bd7a-45e4e320f83b"
      },
      "execution_count": 4,
      "outputs": [
        {
          "output_type": "stream",
          "name": "stdout",
          "text": [
            "\n",
            "🎧 Welcome to Mood-Based Music Recommender 🎧\n",
            "How are you feeling right now? → I get good marks today\n",
            "\n",
            "Predicted Mood: happy\n",
            "\n",
            "Recommended Playlist:\n",
            "🎵 Happy - Pharrell Williams\n",
            "🎵 Can’t Stop the Feeling - Justin Timberlake\n"
          ]
        }
      ]
    }
  ]
}